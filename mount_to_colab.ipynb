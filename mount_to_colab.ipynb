{
  "nbformat": 4,
  "nbformat_minor": 0,
  "metadata": {
    "colab": {
      "name": "mount_to_colab.ipynb",
      "provenance": [],
      "authorship_tag": "ABX9TyOwbwEhv3Z4Vui0n+/Ybsqr",
      "include_colab_link": true
    },
    "kernelspec": {
      "name": "python3",
      "display_name": "Python 3"
    }
  },
  "cells": [
    {
      "cell_type": "markdown",
      "metadata": {
        "id": "view-in-github",
        "colab_type": "text"
      },
      "source": [
        "<a href=\"https://colab.research.google.com/github/yuxian999/M-DDDR/blob/master/mount_to_colab.ipynb\" target=\"_parent\"><img src=\"https://colab.research.google.com/assets/colab-badge.svg\" alt=\"Open In Colab\"/></a>"
      ]
    },
    {
      "cell_type": "code",
      "metadata": {
        "id": "L1s0c55gIoBd",
        "outputId": "e8adf2a3-0092-4955-858a-10559edafd1c",
        "colab": {
          "base_uri": "https://localhost:8080/",
          "height": 170
        }
      },
      "source": [
        "# edited in colab\n",
        "\n",
        "import os\n",
        "import sys\n",
        "\n",
        "GIT_USERNAME = \"yuxian999\" # Your Github Username\n",
        "GIT_TOKEN = \"3ac987c4a0c743092f594c89fa9f81cbf59393cb\"  # GitHub Token for accessing\n",
        "GIT_REPOSITORY = \"M-DDDR\" # Github Repo Name\n",
        "GIT_PATH = \"https://\" + GIT_TOKEN + \"@github.com/\" + GIT_USERNAME + \"/\" + GIT_REPOSITORY + \".git\"\n",
        "GIT_LOCAL_PATH = '/content/' + GIT_REPOSITORY\n",
        "\n",
        "print(\"GIT_PATH: \", GIT_PATH)\n",
        "\n",
        "if not os.path.exists(GIT_LOCAL_PATH):\n",
        "    os.chdir('/content/')\n",
        "    !git clone \"{GIT_PATH}\" # clone the github repository\n",
        "else:\n",
        "    os.chdir(GIT_LOCAL_PATH)\n",
        "    !git status\n",
        "    !git pull\n",
        "\n",
        "os.chdir(GIT_LOCAL_PATH)\n",
        "!git checkout master\n",
        "os.chdir('/content')\n",
        "\n",
        "if GIT_LOCAL_PATH not in sys.path:\n",
        "    sys.path.append(GIT_LOCAL_PATH)"
      ],
      "execution_count": null,
      "outputs": [
        {
          "output_type": "stream",
          "text": [
            "GIT_PATH:  https://3ac987c4a0c743092f594c89fa9f81cbf59393cb@github.com/yuxian999/M-DDDR.git\n",
            "Cloning into 'M-DDDR'...\n",
            "remote: Enumerating objects: 71, done.\u001b[K\n",
            "remote: Counting objects: 100% (71/71), done.\u001b[K\n",
            "remote: Compressing objects: 100% (68/68), done.\u001b[K\n",
            "remote: Total 71 (delta 22), reused 0 (delta 0), pack-reused 0\u001b[K\n",
            "Unpacking objects: 100% (71/71), done.\n",
            "Already on 'master'\n",
            "Your branch is up to date with 'origin/master'.\n"
          ],
          "name": "stdout"
        }
      ]
    }
  ]
}